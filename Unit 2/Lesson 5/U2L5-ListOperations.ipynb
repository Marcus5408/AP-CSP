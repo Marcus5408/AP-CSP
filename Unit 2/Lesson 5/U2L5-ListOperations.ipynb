{
 "cells": [
  {
   "cell_type": "code",
   "execution_count": null,
   "metadata": {},
   "outputs": [],
   "source": [
    "# 1\n",
    "\n",
    "list = []\n",
    "for i in range(10):\n",
    "    list.append(list)\n",
    "    list.pop(len(list) - 1)\n",
    "    list.remove([...])\n",
    "print(list)"
   ]
  },
  {
   "cell_type": "code",
   "execution_count": null,
   "metadata": {},
   "outputs": [],
   "source": [
    "# 3\n",
    "\n",
    "names = [\"Adam\", \"Barb\", \"Carol\", \"David\", \"Edward\", \"Fred\"]\n",
    "\n",
    "names.append(\"Greg\") # a\n",
    "print(names) # b\n",
    "names.insert(3, \"Cindy\") # c\n",
    "print(names) # d\n",
    "removed = names.pop(5) # e\n",
    "print(names) # f\n",
    "print(removed) # g\n",
    "last = names.pop() # h\n",
    "print(names) # i\n",
    "print(last) # j\n",
    "names[2] = names[0] # k\n",
    "print(names) # l"
   ]
  }
 ],
 "metadata": {
  "language_info": {
   "name": "python"
  }
 },
 "nbformat": 4,
 "nbformat_minor": 2
}
