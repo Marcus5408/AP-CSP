{
 "cells": [
  {
   "cell_type": "code",
   "execution_count": null,
   "metadata": {},
   "outputs": [],
   "source": [
    "# 1\n",
    "\n",
    "list = []\n",
    "for i in range(10):\n",
    "    list.append(list)\n",
    "    list.pop(len(list) - 1)\n",
    "    list.remove([...])\n",
    "print(list)"
   ]
  },
  {
   "cell_type": "code",
   "execution_count": null,
   "metadata": {},
   "outputs": [],
   "source": [
    "# 3\n",
    "\n",
    "names = [\"Adam\", \"Barb\", \"Carol\", \"David\", \"Edward\", \"Fred\"]\n",
    "\n",
    "names.append(\"Greg\") # a\n",
    "print(names) # b\n",
    "names.insert(3, \"Cindy\") # c\n",
    "print(names) # d\n",
    "removed = names.pop(5) # e\n",
    "print(names) # f\n",
    "print(removed) # g\n",
    "last = names.pop() # h\n",
    "print(names) # i\n",
    "print(last) # j\n",
    "names[2] = names[0] # k\n",
    "print(names) # l"
   ]
  },
  {
   "cell_type": "code",
   "execution_count": null,
   "metadata": {},
   "outputs": [],
   "source": [
    "# 4\n",
    "\n",
    "nums = [2, 7, 9, 5, 1, 8, 4, 6]\n",
    "index_five = nums.pop(5)\n",
    "index_two = nums.pop(2)\n",
    "nums.insert(2, index_five)\n",
    "nums.insert(5, index_two)\n",
    "print(nums)"
   ]
  },
  {
   "cell_type": "code",
   "execution_count": null,
   "metadata": {},
   "outputs": [],
   "source": [
    "# 4, part 2\n",
    "\n",
    "nums = [2, 7, 9, 5, 1, 8, 4, 6]\n",
    "temp = nums[2]\n",
    "nums[2] = nums[5]\n",
    "nums[5] = temp\n",
    "print(nums)"
   ]
  },
  {
   "cell_type": "code",
   "execution_count": 6,
   "metadata": {},
   "outputs": [
    {
     "name": "stdout",
     "output_type": "stream",
     "text": [
      "[0, 2, 4, 6, 8, 10, 12, 14, 16, 18, 20, 22, 24, 26, 28, 30, 32, 34, 36, 38, 40, 42, 44, 46, 48, 50, 52, 54, 56, 58, 60, 62, 64, 66, 68, 70, 72, 74, 76, 78, 80, 82, 84, 86, 88, 90, 92, 94, 96, 98, 100]\n",
      "872\n"
     ]
    }
   ],
   "source": [
    "# 5\n",
    "\n",
    "even_nums = []\n",
    "for i in range(0, 101, 2):\n",
    "    even_nums.append(i)\n",
    "print(even_nums)\n",
    "sum = 0\n",
    "for number in even_nums:\n",
    "    if number % 5 == 0 or number % 7 == 0:\n",
    "        sum += number\n",
    "print(sum)"
   ]
  }
 ],
 "metadata": {
  "kernelspec": {
   "display_name": "Python 3",
   "language": "python",
   "name": "python3"
  },
  "language_info": {
   "codemirror_mode": {
    "name": "ipython",
    "version": 3
   },
   "file_extension": ".py",
   "mimetype": "text/x-python",
   "name": "python",
   "nbconvert_exporter": "python",
   "pygments_lexer": "ipython3",
   "version": "3.12.0"
  }
 },
 "nbformat": 4,
 "nbformat_minor": 2
}
