{
 "cells": [
  {
   "cell_type": "code",
   "execution_count": null,
   "metadata": {},
   "outputs": [],
   "source": [
    "# 1a Warmup!\n",
    "\n",
    "for i in range(1, 26):\n",
    "    print(f\"{i}\\n\" if i % 2 == 1 else \"\", end=\"\")"
   ]
  },
  {
   "cell_type": "code",
   "execution_count": null,
   "metadata": {},
   "outputs": [],
   "source": [
    "# 1b Warmup!\n",
    "\n",
    "i = 0\n",
    "while i < 25:\n",
    "    i += 1\n",
    "    print(f\"{i}\\n\" if i % 2 == 1 else \"\", end=\"\")"
   ]
  },
  {
   "cell_type": "code",
   "execution_count": 10,
   "metadata": {},
   "outputs": [
    {
     "name": "stdout",
     "output_type": "stream",
     "text": [
      "5! = 120\n"
     ]
    }
   ],
   "source": [
    "# 2 Factorial! \n",
    "\n",
    "num = int(input(\"Enter a number to factorial: \"))\n",
    "\n",
    "factorial = 1\n",
    "for i in range(1, num+1):\n",
    "    factorial *= i\n",
    "\n",
    "print(f\"{num}! = {factorial}\")"
   ]
  },
  {
   "cell_type": "code",
   "execution_count": 12,
   "metadata": {},
   "outputs": [
    {
     "name": "stdout",
     "output_type": "stream",
     "text": [
      "8...\n",
      "7...\n",
      "6...\n",
      "5...\n",
      "4...\n",
      "3...\n",
      "2...\n",
      "1...\n",
      "0...\n",
      "BLASTOFF!\n"
     ]
    }
   ],
   "source": [
    "# 3 Blastoff!\n",
    "\n",
    "import time\n",
    "\n",
    "timer = int(input(\"Enter timer: \"))\n",
    "print(\"It's the final countdown!\")\n",
    "for i in range(timer, -1, -1):\n",
    "    print(f\"{i}...\")\n",
    "    time.sleep(1)\n",
    "\n",
    "print(\"BLASTOFF!\")"
   ]
  },
  {
   "cell_type": "code",
   "execution_count": null,
   "metadata": {},
   "outputs": [],
   "source": [
    "# 4 Big Evens!\n",
    "\n",
    "num = 0\n",
    "while num % 2 != 0 or num <= 100:\n",
    "    num = int(input(\"Enter an even number greater than 100: \"))\n",
    "    print(\"Number is not even\\n\" if num % 2 != 0 else \"\", end=\"\")\n",
    "    print(\"Number is too low\\n\" if num <= 100 else \"\", end=\"\")\n",
    "\n",
    "print(\"Thank you, have a nice day!\")"
   ]
  },
  {
   "cell_type": "code",
   "execution_count": null,
   "metadata": {},
   "outputs": [],
   "source": [
    "# 5 Inventory Tracker!\n",
    "\n",
    "inventory = int(input(\"Enter starting inventory: \"))\n",
    "\n",
    "while inventory > 0:\n",
    "    print(f\"We have {inventory} items in inventory.\")\n",
    "    buy = int(input(\"How many would you like to buy? \"))\n",
    "    \n",
    "    if buy > inventory:\n",
    "        print(\"There is not enough in inventory for that purchase.\")\n",
    "    else:\n",
    "        inventory -= buy\n",
    "        print(f\"Now we have {inventory} left.\")\n",
    "\n",
    "print(\"All out!\")"
   ]
  },
  {
   "cell_type": "code",
   "execution_count": 4,
   "metadata": {},
   "outputs": [
    {
     "name": "stdout",
     "output_type": "stream",
     "text": [
      "Welcome to Guess My Secret Number!\n",
      "Guess a number between 1 and 20\n",
      "-------------------------------\n",
      "Too high!\n",
      "Too low!\n",
      "Too low!\n",
      "Too high!\n",
      "Too low!\n",
      "You guessed it! My number was 8\n",
      "It took you 5 guesses\n",
      "Game over, goodbye!\n"
     ]
    }
   ],
   "source": [
    "# 6 Number Guessing Game!\n",
    "\n",
    "from random import randint\n",
    "\n",
    "print(\"\"\"Welcome to Guess My Secret Number!\n",
    "Guess a number between 1 and 20\n",
    "-------------------------------\"\"\")\n",
    "\n",
    "secret = randint(1, 20)\n",
    "guess, tries, max_tries = 0, 0, 5\n",
    "\n",
    "while guess != secret and tries < max_tries:\n",
    "    guess = int(input(\"Enter a guess: \"))\n",
    "    if guess != secret:\n",
    "        tries += 1\n",
    "    else:\n",
    "        break\n",
    "    print(\"Too high!\" if guess > secret else \"Too low!\")\n",
    "\n",
    "print(f\"You guessed it! My number was {secret}\\nIt took you {tries} guesses\\nGame over, goodbye!\" if guess == secret else \"Out of guesses, game over!\")"
   ]
  },
  {
   "cell_type": "markdown",
   "metadata": {},
   "source": []
  },
  {
   "cell_type": "code",
   "execution_count": null,
   "metadata": {},
   "outputs": [],
   "source": [
    "# Number Guessing Game\n",
    "\n",
    "from random import randint\n",
    "\n",
    "print(\"\"\"Welcome to Guess My Secret Number!\n",
    "Guess a number between 1 and 20\n",
    "---------------------------\"\"\")\n",
    "\n",
    "secret = randint(1, 20)\n",
    "guess, tries, max_tries = 0, 0, 5\n",
    "\n",
    "while guess != secret and tries < max_tries:\n",
    "    guess = int(input(\"Enter a guess: \"))\n",
    "    tries += 1\n",
    "    if guess > secret:\n",
    "        print(\"Too high!\")\n",
    "    elif guess < secret:\n",
    "        print(\"Too low!\")\n",
    "\n",
    "if guess == secret:\n",
    "    print(f\"You guessed it! My number was {secret}.\")\n",
    "else:\n",
    "    print(f\"Out of guesses, game over!\")\n",
    "\n",
    "print(f\"You took {tries} tries. Game over, goodbye!\")"
   ]
  },
  {
   "cell_type": "code",
   "execution_count": null,
   "metadata": {},
   "outputs": [],
   "source": [
    "# 7 Dice Combos \n",
    "\n",
    "i = 0\n",
    "for j in range(6):\n",
    "    for k in range(6):\n",
    "        print(f\"Combination #{i + 1}: {j + 1}, {k + 1}\")\n",
    "        i += 1"
   ]
  },
  {
   "cell_type": "code",
   "execution_count": 4,
   "metadata": {},
   "outputs": [
    {
     "name": "stdout",
     "output_type": "stream",
     "text": [
      "6\n",
      "9\n",
      "Hello\n",
      "14\n",
      "17\n",
      "Hello\n",
      "22\n",
      "25\n",
      "Hello\n"
     ]
    }
   ],
   "source": [
    "# Practice AP Problem\n",
    "\n",
    "x = 1\n",
    "for i in range(3):\n",
    "    x = x + 2\n",
    "    for j in range(2):\n",
    "        x = x + 3\n",
    "        print(x)\n",
    "    print(\"Hello\")\n"
   ]
  }
 ],
 "metadata": {
  "kernelspec": {
   "display_name": "Python 3",
   "language": "python",
   "name": "python3"
  },
  "language_info": {
   "codemirror_mode": {
    "name": "ipython",
    "version": 3
   },
   "file_extension": ".py",
   "mimetype": "text/x-python",
   "name": "python",
   "nbconvert_exporter": "python",
   "pygments_lexer": "ipython3",
   "version": "3.12.0"
  }
 },
 "nbformat": 4,
 "nbformat_minor": 2
}
