{
 "cells": [
  {
   "cell_type": "code",
   "execution_count": 1,
   "metadata": {},
   "outputs": [
    {
     "name": "stdout",
     "output_type": "stream",
     "text": [
      "User logged in?: False\n"
     ]
    }
   ],
   "source": [
    "# Do Now\n",
    "\n",
    "logged_in = False\n",
    "print(\"User logged in?: \" + str(logged_in))\n",
    "\n",
    "# 1. The variable is set to False without quotes, so the variable isn't a string but it isn't detected as an error\n",
    "# 2. Why does logged_in need to be cast?"
   ]
  },
  {
   "cell_type": "code",
   "execution_count": 2,
   "metadata": {},
   "outputs": [
    {
     "ename": "ValueError",
     "evalue": "invalid literal for int() with base 10: ''",
     "output_type": "error",
     "traceback": [
      "\u001b[1;31m---------------------------------------------------------------------------\u001b[0m",
      "\u001b[1;31mValueError\u001b[0m                                Traceback (most recent call last)",
      "\u001b[1;32me:\\AP CSP\\U1L7-Booleans.ipynb Cell 2\u001b[0m line \u001b[0;36m3\n\u001b[0;32m      <a href='vscode-notebook-cell:/e%3A/AP%20CSP/U1L7-Booleans.ipynb#W1sZmlsZQ%3D%3D?line=0'>1</a>\u001b[0m \u001b[39m# 3, 4\u001b[39;00m\n\u001b[1;32m----> <a href='vscode-notebook-cell:/e%3A/AP%20CSP/U1L7-Booleans.ipynb#W1sZmlsZQ%3D%3D?line=2'>3</a>\u001b[0m age \u001b[39m=\u001b[39m \u001b[39mint\u001b[39;49m(\u001b[39minput\u001b[39;49m(\u001b[39m\"\u001b[39;49m\u001b[39mWhat is your age? \u001b[39;49m\u001b[39m\"\u001b[39;49m))\n\u001b[0;32m      <a href='vscode-notebook-cell:/e%3A/AP%20CSP/U1L7-Booleans.ipynb#W1sZmlsZQ%3D%3D?line=3'>4</a>\u001b[0m \u001b[39mif\u001b[39;00m age \u001b[39m>\u001b[39m\u001b[39m=\u001b[39m \u001b[39m21\u001b[39m:\n\u001b[0;32m      <a href='vscode-notebook-cell:/e%3A/AP%20CSP/U1L7-Booleans.ipynb#W1sZmlsZQ%3D%3D?line=4'>5</a>\u001b[0m     \u001b[39mprint\u001b[39m(\u001b[39m\"\u001b[39m\u001b[39mYou are old enough to get an ID without your parents!\u001b[39m\u001b[39m\"\u001b[39m)\n",
      "\u001b[1;31mValueError\u001b[0m: invalid literal for int() with base 10: ''"
     ]
    }
   ],
   "source": [
    "# 3, 4\n",
    "\n",
    "age = int(input(\"What is your age? \"))\n",
    "if age >= 21:\n",
    "    print(\"You are old enough to get an ID without your parents!\")\n",
    "else:\n",
    "    print(\"You are not old enough to get an ID without your parents.\")\n",
    "\n",
    "print(\"The end\")"
   ]
  },
  {
   "cell_type": "code",
   "execution_count": null,
   "metadata": {},
   "outputs": [],
   "source": [
    "# 9-10\n",
    "\n",
    "is_raining = True\n",
    "print(\"It is raining:\", str(is_raining))\n",
    "if is_raining: print(\"Get an umbrella!\")\n",
    "print(\"Have a nice day!\")"
   ]
  },
  {
   "cell_type": "code",
   "execution_count": null,
   "metadata": {},
   "outputs": [
    {
     "name": "stdout",
     "output_type": "stream",
     "text": [
      "Your number is negative\n",
      "Goodbye!\n"
     ]
    }
   ],
   "source": [
    "# 11\n",
    "\n",
    "number = int(input(\"Enter a number: \"))\n",
    "if number > 0:\n",
    "    print(\"Your number is positive\")\n",
    "elif number < 0:\n",
    "    print(\"Your number is negative\")\n",
    "else:\n",
    "    print(\"Your number is not negative or positive\")\n",
    "print(\"Goodbye!\")"
   ]
  },
  {
   "cell_type": "code",
   "execution_count": 6,
   "metadata": {},
   "outputs": [
    {
     "name": "stdout",
     "output_type": "stream",
     "text": [
      "Incorrect! Try again!\n"
     ]
    }
   ],
   "source": [
    "# 13\n",
    "\n",
    "import random\n",
    "\n",
    "def ask_math_question():\n",
    "    question = {\n",
    "        \"number_1\": random.randint(1,10),\n",
    "        \"operation\": random.choice([\"+\", \"-\", \"*\", \"/\"]),\n",
    "        \"number_2\": random.randint(1,10)\n",
    "    }\n",
    "    formatted_question = str(question['number_1']) + question['operation'] + str(question['number_2'])\n",
    "    answer = int(input(f\"What is {formatted_question}? \"))\n",
    "    if answer == eval(formatted_question):\n",
    "        return True\n",
    "\n",
    "if ask_math_question() == True:\n",
    "    print(\"Correct!\")\n",
    "    if ask_math_question() == True:\n",
    "        print(\"You got them both correct!\")\n",
    "    else:\n",
    "        print(\"Incorrect, but at least you got one right!\")\n",
    "        print(\"Come back and try again!\")\n",
    "else:\n",
    "    print(\"Incorrect! Try again!\")"
   ]
  },
  {
   "cell_type": "code",
   "execution_count": 10,
   "metadata": {},
   "outputs": [
    {
     "name": "stdout",
     "output_type": "stream",
     "text": [
      "\u001b[36mWelcome to the trivia game, !\n",
      "What mode you want to play in?\n",
      "Wrong!\n",
      "Wrong!\n",
      "Wrong!\n",
      "You got 0 out of 3 questions correct. Good job, !\n"
     ]
    }
   ],
   "source": [
    "# Trivia Game!\n",
    "\n",
    "from colorama import Fore, Back, Style\n",
    "\n",
    "RED, GREEN, BLUE, YELLOW, MAGENTA, CYAN, WHITE, RESET = Fore.RED, Fore.GREEN, Fore.BLUE, Fore.YELLOW, Fore.MAGENTA, Fore.CYAN, Fore.WHITE, Fore.RESET\n",
    "name = input(\"Enter your name: \")\n",
    "print(f\"{CYAN}Welcome to the trivia game, {name}!\")\n",
    "print(\"What type of questions do you want?\")\n",
    "game_mode = input(f\"{GREEN}[1] Trivia Questions\\n[2] Math Questions\\n{CYAN}> {RESET}\")\n",
    "options = {\"1\": \"Trivia Questions\", \"2\": \"Math Questions\"}\n",
    "while game_mode not in options:\n",
    "    game_mode = input(f\"{CYAN}> {RESET}\")\n",
    "game_mode = options[game_mode]\n",
    "\n",
    "print(f\"{CYAN}What difficulty?\")\n",
    "hard_mode = input(f\"{GREEN}[1] Easy\\n[2] Hard\\n{CYAN}> {RESET}\")\n",
    "while hard_mode not in [\"1\", \"2\"]:\n",
    "    hard_mode = input(f\"{CYAN}> {RESET}\")\n",
    "hard_mode = True if hard_mode == \"2\" else False\n",
    "\n",
    "\n",
    "questions = [\n",
    "    {\"question\": \"What is the capital of France? \", \"answer\": \"paris\"},\n",
    "    {\"question\": \"What is the largest planet in our solar system? \", \"answer\": \"jupiter\"},\n",
    "    {\"question\": \"What is the smallest country in the world? \", \"answer\": \"vatican city\"}\n",
    "]\n",
    "num_correct = 0\n",
    "for question in questions:\n",
    "    answer = input(question[\"question\"])\n",
    "    if question[\"answer\"] in answer.lower():\n",
    "        print(\"Correct!\")\n",
    "        num_correct += 1\n",
    "    else:\n",
    "        print(\"Wrong!\")\n",
    "\n",
    "# Print the number of correct answers\n",
    "print(f\"You got {num_correct} out of 3 questions correct. Good job, {name}!\")"
   ]
  }
 ],
 "metadata": {
  "kernelspec": {
   "display_name": "Python 3",
   "language": "python",
   "name": "python3"
  },
  "language_info": {
   "codemirror_mode": {
    "name": "ipython",
    "version": 3
   },
   "file_extension": ".py",
   "mimetype": "text/x-python",
   "name": "python",
   "nbconvert_exporter": "python",
   "pygments_lexer": "ipython3",
   "version": "3.11.4"
  },
  "orig_nbformat": 4
 },
 "nbformat": 4,
 "nbformat_minor": 2
}
