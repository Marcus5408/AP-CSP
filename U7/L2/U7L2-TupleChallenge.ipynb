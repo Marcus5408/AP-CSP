{
 "cells": [
  {
   "cell_type": "markdown",
   "metadata": {},
   "source": [
    "Prepare data"
   ]
  },
  {
   "cell_type": "code",
   "execution_count": 32,
   "metadata": {},
   "outputs": [
    {
     "name": "stdout",
     "output_type": "stream",
     "text": [
      "Your directions are: [('L', 4), ('L', 3), ('R', 1), ('L', 4), ('R', 2), ('R', 2), ('L', 1), ('L', 2), ('R', 1), ('R', 1), ('L', 3), ('R', 5), ('L', 2), ('R', 5), ('L', 4), ('L', 3), ('R', 2), ('R', 2), ('L', 5), ('L', 1), ('R', 4), ('L', 1), ('R', 3), ('L', 3), ('R', 5), ('R', 2), ('L', 5), ('R', 2), ('R', 1), ('R', 1), ('L', 5), ('R', 1), ('L', 3), ('L', 2), ('L', 5), ('R', 4), ('R', 4), ('L', 2), ('L', 1), ('L', 1), ('R', 1), ('R', 1), ('L', 185), ('R', 4), ('L', 1), ('L', 1), ('R', 5), ('R', 1), ('L', 1), ('L', 3), ('L', 2), ('L', 1), ('R', 2), ('R', 2), ('R', 2), ('L', 1), ('L', 1), ('R', 4), ('R', 5), ('R', 53), ('L', 1), ('R', 1), ('R', 78), ('R', 3), ('R', 4), ('L', 1), ('R', 5), ('L', 1), ('L', 4), ('R', 3), ('R', 3), ('L', 3), ('L', 3), ('R', 191), ('R', 4), ('R', 1), ('L', 4), ('L', 1), ('R', 3), ('L', 1), ('L', 2), ('R', 3), ('R', 2), ('R', 4), ('R', 5), ('R', 5), ('L', 3), ('L', 5), ('R', 2), ('R', 3), ('L', 1), ('L', 1), ('L', 3), ('R', 1), ('R', 4), ('R', 1), ('R', 3), ('R', 4), ('R', 4), ('R', 4), ('R', 5), ('R', 2), ('L', 5), ('R', 1), ('R', 2), ('R', 5), ('L', 3), ('L', 4), ('R', 1), ('L', 5), ('R', 1), ('L', 4), ('L', 3), ('R', 5), ('R', 5), ('L', 3), ('L', 4), ('L', 4), ('R', 2), ('R', 2), ('L', 5), ('R', 3), ('R', 1), ('R', 2), ('R', 5), ('L', 5), ('L', 3), ('R', 4), ('L', 5), ('R', 5), ('L', 3), ('R', 1), ('L', 1), ('R', 4), ('R', 4), ('L', 3), ('R', 2), ('R', 5), ('R', 1), ('R', 2), ('L', 1), ('R', 4), ('R', 1), ('L', 3), ('L', 3), ('L', 5), ('R', 2), ('R', 5), ('L', 1), ('L', 4), ('R', 3), ('R', 3), ('L', 3), ('R', 2), ('L', 5), ('R', 1), ('R', 3), ('L', 3), ('R', 2), ('L', 1), ('R', 4), ('R', 3), ('L', 4), ('R', 5), ('L', 2), ('L', 2), ('R', 5), ('R', 1), ('R', 2), ('L', 4), ('L', 4), ('L', 5), ('R', 3), ('L', 4)]\n"
     ]
    }
   ],
   "source": [
    "data = []\n",
    "\n",
    "for w in open(\"directions.txt\"):\n",
    "    data = w.split(\",\")\n",
    "\n",
    "directions = []\n",
    "\n",
    "for d in data:\n",
    "    d = d.strip()\n",
    "    rotate = d[0]\n",
    "    moves = int(d[1:])\n",
    "    directions.append((rotate, moves))\n",
    "\n",
    "print(\"Your directions are:\", directions)"
   ]
  },
  {
   "cell_type": "markdown",
   "metadata": {},
   "source": [
    "Test cases"
   ]
  },
  {
   "cell_type": "code",
   "execution_count": 30,
   "metadata": {},
   "outputs": [],
   "source": [
    "directions = [('R', 2), ('L', 3)]"
   ]
  },
  {
   "cell_type": "code",
   "execution_count": 35,
   "metadata": {},
   "outputs": [],
   "source": [
    "directions = [('R', 2), ('R', 2), ('R', 2)]"
   ]
  },
  {
   "cell_type": "markdown",
   "metadata": {},
   "source": [
    "Code"
   ]
  },
  {
   "cell_type": "code",
   "execution_count": 40,
   "metadata": {},
   "outputs": [
    {
     "name": "stdout",
     "output_type": "stream",
     "text": [
      "The car is now at 0, -2 facing west.\n",
      "Taxicab/ Manhattan distance from origin is 2 blocks.\n"
     ]
    }
   ],
   "source": [
    "class SelfDrivingCar:\n",
    "    def __init__(self):\n",
    "        self.x, self.y = 0, 0\n",
    "        self.facing_int = 0\n",
    "        self.facing = 'north'\n",
    "        self.nsew = ('north', 'east', 'south', 'west')\n",
    "\n",
    "    def move(self, vector:tuple):\n",
    "        # input is ('L', 4)\n",
    "        rotate, moves = vector\n",
    "        self.facing_int += 1 if rotate == 'R' else -1\n",
    "        self.facing = self.nsew[self.facing_int % 4]\n",
    "\n",
    "        # get correct transformation for the current facing, then apply\n",
    "        transformations = {\n",
    "            # def what a \"move forward\" means for each direction as multiplier of global position (x, y)\n",
    "            'north': (0, 1),\n",
    "            'east': (1, 0),\n",
    "            'south': (0, -1),\n",
    "            'west': (-1, 0)\n",
    "        }\n",
    "        self.x, self.y = self.x + transformations[self.facing][0] * moves, self.y + transformations[self.facing][1] * moves\n",
    "\n",
    "car = SelfDrivingCar()\n",
    "\n",
    "for vector in directions:\n",
    "    car.move(vector)\n",
    "\n",
    "print(f\"The car is now at {car.x}, {car.y} facing {car.facing}.\")\n",
    "print(f\"Taxicab/ Manhattan distance from origin is {abs(car.x) + abs(car.y)} blocks.\")"
   ]
  }
 ],
 "metadata": {
  "kernelspec": {
   "display_name": "env",
   "language": "python",
   "name": "python3"
  },
  "language_info": {
   "codemirror_mode": {
    "name": "ipython",
    "version": 3
   },
   "file_extension": ".py",
   "mimetype": "text/x-python",
   "name": "python",
   "nbconvert_exporter": "python",
   "pygments_lexer": "ipython3",
   "version": "3.12.0"
  }
 },
 "nbformat": 4,
 "nbformat_minor": 2
}
