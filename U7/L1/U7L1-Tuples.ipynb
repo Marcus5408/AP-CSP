{
 "cells": [
  {
   "cell_type": "code",
   "execution_count": null,
   "metadata": {},
   "outputs": [],
   "source": [
    "# 2\n",
    "\n",
    "fruits = (\"banana\", \"grape\", \"kiwi\", \"pear\")\n",
    "print(fruits)\n",
    "\n",
    "print(fruits[0])\n",
    "print(fruits[2])\n",
    "print(fruits[3])\n",
    "print(fruits[4])"
   ]
  },
  {
   "cell_type": "code",
   "execution_count": 7,
   "metadata": {},
   "outputs": [
    {
     "name": "stdout",
     "output_type": "stream",
     "text": [
      "banana\n",
      "grape\n",
      "kiwi\n",
      "pear\n"
     ]
    }
   ],
   "source": [
    "# 5\n",
    "\n",
    "fruits = (\"banana\", \"grape\", \"kiwi\", \"pear\")\n",
    "print('\\n'.join(fruit for fruit in fruits))"
   ]
  },
  {
   "cell_type": "code",
   "execution_count": 8,
   "metadata": {},
   "outputs": [
    {
     "name": "stdout",
     "output_type": "stream",
     "text": [
      "16.1245154965971\n",
      "33.734255586866\n"
     ]
    }
   ],
   "source": [
    "# 6\n",
    "\n",
    "def distance(p1: tuple, p2: tuple) -> float:\n",
    "    return ((p2[0] - p1[0])**2 + (p2[1] - p1[1])**2)**0.5\n",
    "\n",
    "dist1 = distance((3, 4), (-5, -10))\n",
    "print(dist1)\n",
    "dist2 = distance((-16, 5), (17, -2))\n",
    "print(dist2)"
   ]
  },
  {
   "cell_type": "code",
   "execution_count": 1,
   "metadata": {},
   "outputs": [
    {
     "name": "stdout",
     "output_type": "stream",
     "text": [
      "The distance is 28.319604517012593\n"
     ]
    }
   ],
   "source": [
    "# 7\n",
    "\n",
    "def distance(p1: tuple, p2: tuple) -> float:\n",
    "    return ((p2[0] - p1[0])**2 + (p2[1] - p1[1])**2)**0.5\n",
    "\n",
    "x1 = input(\"Enter x1: \")\n",
    "y1 = input(\"Enter y1: \")\n",
    "x2 = input(\"Enter x2: \")\n",
    "y2 = input(\"Enter y2: \")\n",
    "p1 = (int(x1), int(y1))\n",
    "p2 = (int(x2), int(y2))\n",
    "del x1, y1, x2, y2\n",
    "print(f\"The distance is {distance(p1, p2)}\")"
   ]
  },
  {
   "cell_type": "code",
   "execution_count": 2,
   "metadata": {},
   "outputs": [
    {
     "name": "stdout",
     "output_type": "stream",
     "text": [
      "(193, 207, 134)\n",
      "(57, 78, 74)\n",
      "(145, 239, 155)\n"
     ]
    }
   ],
   "source": [
    "# 8\n",
    "\n",
    "from random import randint\n",
    "\n",
    "# ...\n",
    "\n",
    "def random_RGB() -> tuple:\n",
    "    return (randint(0, 255), randint(0, 255), randint(0, 255))\n",
    "\n",
    "rand_rgb_1 = random_RGB()\n",
    "rand_rgb_2 = random_RGB()\n",
    "rand_rgb_3 = random_RGB()\n",
    "print(rand_rgb_1)\n",
    "print(rand_rgb_2)\n",
    "print(rand_rgb_3)"
   ]
  }
 ],
 "metadata": {
  "kernelspec": {
   "display_name": "env",
   "language": "python",
   "name": "python3"
  },
  "language_info": {
   "codemirror_mode": {
    "name": "ipython",
    "version": 3
   },
   "file_extension": ".py",
   "mimetype": "text/x-python",
   "name": "python",
   "nbconvert_exporter": "python",
   "pygments_lexer": "ipython3",
   "version": "3.12.0"
  }
 },
 "nbformat": 4,
 "nbformat_minor": 2
}
