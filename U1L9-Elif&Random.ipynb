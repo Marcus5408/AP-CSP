{
 "cells": [
  {
   "cell_type": "code",
   "execution_count": 3,
   "metadata": {},
   "outputs": [
    {
     "name": "stdout",
     "output_type": "stream",
     "text": [
      "The number is negative\n",
      "Goodbye!\n"
     ]
    }
   ],
   "source": [
    "number = float(input(\"Enter a number: \"))\n",
    "if number > 0:\n",
    "    print(\"The number is positive\")\n",
    "if number < 0:\n",
    "    print(\"The number is negative\")\n",
    "if number == 0:\n",
    "    print(\"The number is 0\")\n",
    "print(\"Goodbye!\")"
   ]
  },
  {
   "cell_type": "code",
   "execution_count": null,
   "metadata": {},
   "outputs": [],
   "source": [
    "meal = input(\"What is your favorite meal? (breakfast, lunch, or dinner) \").lower()\n",
    "if meal == \"breakfast\":\n",
    "    print(\"How about some avocado on toast?\")\n",
    "elif meal == \"lunch\":\n",
    "    print(\"How about a turkey sandwich?\")\n",
    "elif meal == \"dinner\":\n",
    "    print(\"How about some grilled salmon?\")\n",
    "else:\n",
    "    print(\"Invalid option -- try again!\")"
   ]
  },
  {
   "cell_type": "code",
   "execution_count": 60,
   "metadata": {},
   "outputs": [
    {
     "name": "stdout",
     "output_type": "stream",
     "text": [
      "Player 1 rolled a 2\n",
      "Player 2 rolled a 5\n",
      "Player 2 wins!\n"
     ]
    }
   ],
   "source": [
    "import random\n",
    "\n",
    "player1 = random.randint(1, 6)\n",
    "player2 = random.randint(1, 6)\n",
    "\n",
    "print(f\"Player 1 rolled a {player1}\")\n",
    "print(f\"Player 2 rolled a {player2}\")\n",
    "\n",
    "if player1 > player2:\n",
    "    print(\"Player 1 wins!\")\n",
    "elif player2 > player1:\n",
    "    print(\"Player 2 wins!\")\n",
    "else:\n",
    "    print(\"It's a tie!\")"
   ]
  },
  {
   "cell_type": "code",
   "execution_count": null,
   "metadata": {},
   "outputs": [],
   "source": []
  }
 ],
 "metadata": {
  "kernelspec": {
   "display_name": "Python 3",
   "language": "python",
   "name": "python3"
  },
  "language_info": {
   "codemirror_mode": {
    "name": "ipython",
    "version": 3
   },
   "file_extension": ".py",
   "mimetype": "text/x-python",
   "name": "python",
   "nbconvert_exporter": "python",
   "pygments_lexer": "ipython3",
   "version": "3.11.4"
  },
  "orig_nbformat": 4
 },
 "nbformat": 4,
 "nbformat_minor": 2
}
