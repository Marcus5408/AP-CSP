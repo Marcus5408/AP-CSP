{
 "cells": [
  {
   "cell_type": "code",
   "execution_count": null,
   "metadata": {},
   "outputs": [],
   "source": [
    "# Runner's World\n",
    "\n",
    "miles = input(\"How many miles did you run? \")\n",
    "minutes = input(\"How many minutes did it take you? \")\n",
    "print(f\"Your speed: {60 / (float(minutes) / float(miles))}\")"
   ]
  },
  {
   "cell_type": "code",
   "execution_count": null,
   "metadata": {},
   "outputs": [],
   "source": [
    "# Make Groups\n",
    "\n",
    "total_people = int(input(\"How many total people are there? \"))\n",
    "people_per_group = int(input(\"How many people do you want in each group? \"))\n",
    "\n",
    "num_groups = total_people // people_per_group\n",
    "people_leftover = total_people % people_per_group\n",
    "\n",
    "print(f\"There are {num_groups} groups with {people_leftover} left over.\")"
   ]
  },
  {
   "cell_type": "code",
   "execution_count": 1,
   "metadata": {},
   "outputs": [
    {
     "name": "stdout",
     "output_type": "stream",
     "text": [
      "The final value is: 8281.0\n"
     ]
    }
   ],
   "source": [
    "# Squares and Cubes\n",
    "\n",
    "num1 = int(input(\"Enter the first number: \"))\n",
    "num2 = int(input(\"Enter the second number: \"))\n",
    "\n",
    "print(f\"The final value is: {(num1 ** 3 + num2 ** 3) ** 2}\")"
   ]
  }
 ],
 "metadata": {
  "kernelspec": {
   "display_name": "Python 3",
   "language": "python",
   "name": "python3"
  },
  "language_info": {
   "codemirror_mode": {
    "name": "ipython",
    "version": 3
   },
   "file_extension": ".py",
   "mimetype": "text/x-python",
   "name": "python",
   "nbconvert_exporter": "python",
   "pygments_lexer": "ipython3",
   "version": "3.11.4"
  },
  "orig_nbformat": 4
 },
 "nbformat": 4,
 "nbformat_minor": 2
}
