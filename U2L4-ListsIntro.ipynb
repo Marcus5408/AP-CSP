{
 "cells": [
  {
   "cell_type": "code",
   "execution_count": null,
   "metadata": {},
   "outputs": [],
   "source": [
    "# 3\n",
    "\n",
    "fruits = [\"banana\", \"pineapple\", \"grapes\", \"kiwi\", \"pear\"]\n",
    "fruits[1] = \"peach\"\n",
    "fruits[4] = fruits[3]\n",
    "print(fruits)"
   ]
  },
  {
   "cell_type": "code",
   "execution_count": null,
   "metadata": {},
   "outputs": [],
   "source": [
    "# 4\n",
    "\n",
    "import random\n",
    "\n",
    "names = [\"Tony\", \"Abby\", \"Benny\", \"Carol\", \"Ellie\"]\n",
    "print(names)\n",
    "names[random.randint(0, len(names) - 1)] = \"HELLO!\"\n",
    "print(names)"
   ]
  }
 ],
 "metadata": {
  "language_info": {
   "name": "python"
  }
 },
 "nbformat": 4,
 "nbformat_minor": 2
}
