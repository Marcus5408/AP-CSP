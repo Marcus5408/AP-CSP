{
 "cells": [
  {
   "cell_type": "code",
   "execution_count": null,
   "metadata": {},
   "outputs": [],
   "source": [
    "# 3\n",
    "\n",
    "fruits = [\"banana\", \"pineapple\", \"grapes\", \"kiwi\", \"pear\"]\n",
    "fruits[1] = \"peach\"\n",
    "fruits[4] = fruits[3]\n",
    "print(fruits)"
   ]
  },
  {
   "cell_type": "code",
   "execution_count": null,
   "metadata": {},
   "outputs": [],
   "source": [
    "# 4\n",
    "\n",
    "import random\n",
    "\n",
    "names = [\"Tony\", \"Abby\", \"Benny\", \"Carol\", \"Ellie\"]\n",
    "print(names)\n",
    "names[random.randint(0, len(names) - 1)] = \"HELLO!\"\n",
    "print(names)"
   ]
  },
  {
   "cell_type": "code",
   "execution_count": null,
   "metadata": {},
   "outputs": [],
   "source": [
    "# 5\n",
    "\n",
    "fruits = [\"banana\", \"pineapple\", \"grapes\", \"kiwi\", \"pear\"]\n",
    "\n",
    "for fruit in fruits:\n",
    "    print(fruit)"
   ]
  },
  {
   "cell_type": "code",
   "execution_count": null,
   "metadata": {},
   "outputs": [],
   "source": [
    "# 6\n",
    "\n",
    "nums = [15, 62, 34, 18, 39, 27, 97, 104, 6, 14, 88]\n",
    "sum = 0\n",
    "for num in nums:\n",
    "    print(num)\n",
    "    sum += num\n",
    "print(f\"Sum: {sum}\\nLength: {len(nums)}\")"
   ]
  }
 ],
 "metadata": {
  "language_info": {
   "name": "python"
  }
 },
 "nbformat": 4,
 "nbformat_minor": 2
}
