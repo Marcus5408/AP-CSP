{
 "cells": [
  {
   "cell_type": "code",
   "execution_count": null,
   "metadata": {},
   "outputs": [],
   "source": [
    "# 3\n",
    "\n",
    "def find_cube(num):\n",
    "    cube = num ** 3\n",
    "    return cube\n",
    "\n",
    "result = find_cube(5)\n",
    "print(result)"
   ]
  },
  {
   "cell_type": "code",
   "execution_count": null,
   "metadata": {},
   "outputs": [],
   "source": [
    "# 4\n",
    "\n",
    "import math\n",
    "\n",
    "def find_hypotenuse(a, b):\n",
    "    c = math.sqrt(a**2 + b**2)\n",
    "    return c\n",
    "\n",
    "side_1 = int(input(\"Enter side 1: \"))\n",
    "side_2 = int(input(\"Enter side 2: \"))\n",
    "hypotenuse = find_hypotenuse(side_1, side_2)\n",
    "print(\"The hypotenuse is \", hypotenuse)"
   ]
  },
  {
   "cell_type": "code",
   "execution_count": null,
   "metadata": {},
   "outputs": [],
   "source": [
    "# 5 \n",
    "\n",
    "def find_rect_area(length, width):\n",
    "    area = length * width\n",
    "    return area\n",
    "\n",
    "rect1_length = int(input(\"Enter rectangle 1 length: \"))\n",
    "rect1_width = int(input(\"Enter rectangle 1 width: \"))\n",
    "rect2_length = int(input(\"Enter rectangle 2 length: \"))\n",
    "rect2_width = int(input(\"Enter rectangle 2 width: \"))\n",
    "rect1_area = find_rect_area(rect1_length, rect1_width)\n",
    "rect2_area = find_rect_area(rect2_length, rect2_width)\n",
    "\n",
    "if rect1_area > rect2_area:\n",
    "    print(f\"Rectangle 1's larger by {rect1_area - rect2_area}\")\n",
    "elif rect1_area < rect2_area:\n",
    "    print(f\"Rectangle 2's larger by {rect2_area - rect1_area}\")\n",
    "else:\n",
    "    print(\"The rectangles have equal area\")"
   ]
  },
  {
   "cell_type": "code",
   "execution_count": 4,
   "metadata": {},
   "outputs": [
    {
     "name": "stdout",
     "output_type": "stream",
     "text": [
      "Khoor#Zruog$\n",
      "Hello World!\n"
     ]
    }
   ],
   "source": [
    "# 6\n",
    "\n",
    "def caesar(message, shift):\n",
    "    return \"\".join([chr(ord(char) + shift) for char in message])\n",
    "\n",
    "def reverse_caesar_cipher(message, shift):\n",
    "    return \"\".join([chr(ord(char) - shift) for char in message])\n",
    "\n",
    "print(caesar(\"Hello World!\", 3))\n",
    "print(reverse_caesar_cipher(\"Khoor#Zruog$\", 3))"
   ]
  }
 ],
 "metadata": {
  "kernelspec": {
   "display_name": "env",
   "language": "python",
   "name": "python3"
  },
  "language_info": {
   "codemirror_mode": {
    "name": "ipython",
    "version": 3
   },
   "file_extension": ".py",
   "mimetype": "text/x-python",
   "name": "python",
   "nbconvert_exporter": "python",
   "pygments_lexer": "ipython3",
   "version": "3.12.0"
  }
 },
 "nbformat": 4,
 "nbformat_minor": 2
}
