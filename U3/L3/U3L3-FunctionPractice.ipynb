{
 "cells": [
  {
   "cell_type": "code",
   "execution_count": 107,
   "id": "initial_id",
   "metadata": {
    "ExecuteTime": {
     "end_time": "2023-11-09T14:14:52.545708900Z",
     "start_time": "2023-11-09T14:14:52.542206500Z"
    },
    "collapsed": true
   },
   "outputs": [
    {
     "name": "stdout",
     "output_type": "stream",
     "text": [
      "You rolled a 4 and 5!\n"
     ]
    }
   ],
   "source": [
    "# 1\n",
    "\n",
    "from random import randint\n",
    "\n",
    "def double_roll():\n",
    "    roll_1, roll_2 = randint(1,6), randint(1,6)\n",
    "    message = f\"You rolled a {roll_1} and {roll_2}!\"\n",
    "    message += \"\\nPerfect roll!\" if roll_1 == 6 and roll_1 == roll_2 else \"\"\n",
    "    print(message)\n",
    "\n",
    "double_roll()"
   ]
  },
  {
   "cell_type": "code",
   "execution_count": 109,
   "id": "6cb3c70a0c7b52c6",
   "metadata": {
    "collapsed": false
   },
   "outputs": [
    {
     "data": {
      "text/plain": [
       "78.53981633974483"
      ]
     },
     "execution_count": 109,
     "metadata": {},
     "output_type": "execute_result"
    }
   ],
   "source": [
    "# 2\n",
    "\n",
    "from math import pi\n",
    "\n",
    "def calculate_area_circle(d):\n",
    "    return pi * (d/2)**2\n",
    "\n",
    "calculate_area_circle(10)"
   ]
  },
  {
   "cell_type": "code",
   "execution_count": 111,
   "metadata": {},
   "outputs": [],
   "source": [
    "# 3\n",
    "\n",
    "def make_bricks(one_inch, five_inch, length):\n",
    "    total_length = one_inch + (five_inch * 5)\n",
    "\n",
    "    if total_length < length:\n",
    "        return False\n",
    "    elif length % 5 <= one_inch:\n",
    "        return True\n",
    "    else:\n",
    "        return False"
   ]
  },
  {
   "cell_type": "code",
   "execution_count": 112,
   "metadata": {},
   "outputs": [],
   "source": [
    "def test_make_bricks():\n",
    "    test_cases = [\n",
    "        ((3, 1, 8), True),\n",
    "        ((3, 1, 9), False),\n",
    "        ((3, 2, 10), True),\n",
    "        ((3, 2, 8), True),\n",
    "        ((3, 2, 9), False),\n",
    "        ((6, 1, 11), True),\n",
    "        ((6, 0, 11), False),\n",
    "        ((1, 4, 11), True),\n",
    "        ((0, 3, 10), True),\n",
    "        ((1, 4, 12), False),\n",
    "        ((3, 1, 7), True),\n",
    "        ((1, 1, 7), False),\n",
    "        ((2, 1, 7), True),\n",
    "    ]\n",
    "\n",
    "    for params, expected in test_cases:\n",
    "        result = make_bricks(*params)\n",
    "        assert result == expected, f\"Expected {expected}, but got {result} for parameters {params}\"\n",
    "\n",
    "test_make_bricks()"
   ]
  }
 ],
 "metadata": {
  "kernelspec": {
   "display_name": "Python 3",
   "language": "python",
   "name": "python3"
  },
  "language_info": {
   "codemirror_mode": {
    "name": "ipython",
    "version": 3
   },
   "file_extension": ".py",
   "mimetype": "text/x-python",
   "name": "python",
   "nbconvert_exporter": "python",
   "pygments_lexer": "ipython3",
   "version": "3.12.0"
  }
 },
 "nbformat": 4,
 "nbformat_minor": 5
}
