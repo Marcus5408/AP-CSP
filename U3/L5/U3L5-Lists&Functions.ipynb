{
 "cells": [
  {
   "cell_type": "code",
   "execution_count": null,
   "metadata": {},
   "outputs": [],
   "source": [
    "# 1\n",
    "\n",
    "def find_average(num_list:list):\n",
    "    return sum(num_list) / len(num_list)\n",
    "\n",
    "test_nums = [208, 213, 57, 138, 578, 712, 1204, 741, 98]\n",
    "average = find_average(test_nums)\n",
    "print(average)"
   ]
  },
  {
   "cell_type": "code",
   "execution_count": null,
   "metadata": {},
   "outputs": [],
   "source": [
    "# 2\n",
    "\n",
    "def is_even(num:int):\n",
    "    return num % 2 == 0\n",
    "\n",
    "x = is_even(15)\n",
    "y = is_even(16)\n",
    "z = is_even(0)\n",
    "print(x)\n",
    "print(y)\n",
    "print(z)"
   ]
  },
  {
   "cell_type": "code",
   "execution_count": null,
   "metadata": {},
   "outputs": [],
   "source": [
    "# 3\n",
    "\n",
    "def count_evens(num_list:list):\n",
    "    count = 0\n",
    "    for num in num_list:\n",
    "        count += 1 if is_even(num) else 0\n",
    "    return count\n",
    "\n",
    "c1 = count_evens([5, 4, 8, 10, 7])\n",
    "print(c1)\n",
    "c2 = count_evens([6, 9, -5, -10, 4, 0, 5])\n",
    "print(c2)\n",
    "c3 = count_evens([19, 23, 10, 39, 4, 7, 12, 45, 15])\n",
    "print(c3)\n",
    "c4 = count_evens([208, 213, 57, 138, 578, 712, 1204, 741, 98])\n",
    "print(c4)\n",
    "c5 = count_evens([2, 4, 6, 8, 10, 12, 14, 16, 18, 20])\n",
    "print(c5)\n",
    "c6 = count_evens([1, 3, 5, 7, 9, 11, 13, 15, 17, 19])\n",
    "print(c6)"
   ]
  },
  {
   "cell_type": "code",
   "execution_count": null,
   "metadata": {},
   "outputs": [],
   "source": [
    "# 4\n",
    "\n",
    "def contains_zero(num_list:list):\n",
    "    return 0 in num_list\n",
    "\n",
    "c1 = contains_zero([5, 4, 8, 10, 7])\n",
    "print(c1)\n",
    "c2 = contains_zero([6, 9, -5, -10, 4, 0, 5])\n",
    "print(c2)\n",
    "c3 = contains_zero([19, 23, 0, 39, 4, 7, 12, 45, 15])\n",
    "print(c3)\n",
    "c4 = contains_zero([208, 213, 0, 138, 578, 712, 0, 741, 98])\n",
    "print(c4)\n",
    "c5 = contains_zero([2, 4, 6, 8, 10, 12, 14, 16, 18, 20])\n",
    "print(c5)\n",
    "c6 = contains_zero([0, 3, 0, 7, 0, 11, 0, 15, 0, 19])\n",
    "print(c6)"
   ]
  },
  {
   "cell_type": "code",
   "execution_count": null,
   "metadata": {},
   "outputs": [],
   "source": [
    "# 5\n",
    "\n",
    "if __name__ == \"__main__\":\n",
    "    user_input = input(\"Enter a non-negative number, -1 to quit: \")\n",
    "    numbers = []\n",
    "    while user_input != \"-1\":\n",
    "        if int(user_input) < 0:\n",
    "            print(\"Invalid input.\")\n",
    "        else:\n",
    "            numbers.append(int(user_input))\n",
    "        user_input = input(\"Enter a non-negative number, -1 to quit: \")\n",
    "    \n",
    "    print(f\"\\nThe average of your numbers is: {find_average(numbers)}\")\n",
    "    print(f\"Your list contains {count_evens(numbers)} even numbers\")\n",
    "    print(f\"Your list {'contains' if contains_zero(numbers) else 'DOES NOT contain'} at least one zero\")"
   ]
  },
  {
   "cell_type": "code",
   "execution_count": null,
   "metadata": {},
   "outputs": [],
   "source": [
    "# combined\n",
    "\n",
    "def find_average(num_list:list):\n",
    "    return sum(num_list) / len(num_list)\n",
    "\n",
    "def is_even(num:int):\n",
    "    return num % 2 == 0\n",
    "\n",
    "def count_evens(num_list:list):\n",
    "    count = 0\n",
    "    for num in num_list:\n",
    "        count += 1 if is_even(num) else 0\n",
    "    return count\n",
    "\n",
    "def contains_zero(num_list:list):\n",
    "    return 0 in num_list\n",
    "\n",
    "if __name__ == \"__main__\":\n",
    "    user_input = input(\"Enter a non-negative number, -1 to quit: \")\n",
    "    numbers = []\n",
    "    while user_input != \"-1\":\n",
    "        if int(user_input) < 0:\n",
    "            print(\"Invalid input.\")\n",
    "        else:\n",
    "            numbers.append(int(user_input))\n",
    "        user_input = input(\"Enter a non-negative number, -1 to quit: \")\n",
    "    \n",
    "    print(f\"\\nThe average of your numbers is: {find_average(numbers)}\")\n",
    "    print(f\"Your list contains {count_evens(numbers)} even numbers\")\n",
    "    print(f\"Your list {'contains' if contains_zero(numbers) else 'DOES NOT contain'} at least one zero\")"
   ]
  },
  {
   "cell_type": "code",
   "execution_count": 7,
   "metadata": {},
   "outputs": [
    {
     "name": "stdout",
     "output_type": "stream",
     "text": [
      "True\n",
      "False\n",
      "True\n",
      "True\n",
      "False\n"
     ]
    }
   ],
   "source": [
    "# CommonEnd: CodingBat Problem\n",
    "\n",
    "def common_end(a, b):\n",
    "    return a[0] == b[0] or a[-1] == b[-1]\n",
    "\n",
    "test1 = common_end([1, 2, 3], [7, 3])\n",
    "print(test1)\n",
    "test2 = common_end([1, 2, 3], [7, 3, 2])\n",
    "print(test2)\n",
    "test3 = common_end([1, 2, 3], [1, 3])\n",
    "print(test3)\n",
    "test4 = common_end([1, 2, 3, 4, 5, 6], [1, 2, 5])\n",
    "print(test4)\n",
    "test5 = common_end([1, 2, 3, 4, 5, 6], [5, 6, 7])\n",
    "print(test5)"
   ]
  }
 ],
 "metadata": {
  "kernelspec": {
   "display_name": "env",
   "language": "python",
   "name": "python3"
  },
  "language_info": {
   "codemirror_mode": {
    "name": "ipython",
    "version": 3
   },
   "file_extension": ".py",
   "mimetype": "text/x-python",
   "name": "python",
   "nbconvert_exporter": "python",
   "pygments_lexer": "ipython3",
   "version": "3.12.0"
  }
 },
 "nbformat": 4,
 "nbformat_minor": 2
}
