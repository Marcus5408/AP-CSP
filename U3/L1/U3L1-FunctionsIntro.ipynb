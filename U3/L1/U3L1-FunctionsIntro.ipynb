{
 "cells": [
  {
   "cell_type": "code",
   "execution_count": null,
   "metadata": {},
   "outputs": [],
   "source": [
    "# 1 - 5\n",
    "\n",
    "# this function calculates and prints\n",
    "# the average of two numbers\n",
    "def print_average(num1, num2):\n",
    "    my_sum = num1 + num2\n",
    "    average = my_sum / 2\n",
    "    print(average)\n",
    "\n",
    "\n",
    "\n",
    "\n",
    "# this function doubles a number\n",
    "# and prints the result\n",
    "def print_double(num):\n",
    "\tdouble_num = 2 * num\n",
    "\tprint(double_num)\n",
    "\n",
    "# this function calculates the cube of\n",
    "# a number and prints the result\n",
    "def print_cube(num):\n",
    "    cube = num ** 3\n",
    "    print(f\"The cube of {num} is {cube}\")\n",
    "\n",
    "\n",
    "# MAIN PROGRAM (test code)\n",
    "# print_average(6.32, 10.9)\n",
    "# print_average(7.16, 13.75)\n",
    "# print_average(15.4, 22.96)\n",
    "# \n",
    "# print_double(5)\n",
    "# print_double(12)\n",
    "# y = 30\n",
    "# print_double(y)\n",
    "\n",
    "print_cube(4)\n",
    "print_cube(5)\n",
    "print_cube(10)\n",
    "x = 25\n",
    "print_cube(x)"
   ]
  },
  {
   "cell_type": "code",
   "execution_count": null,
   "metadata": {},
   "outputs": [],
   "source": [
    "# 6\n",
    "\n",
    "def print_cube(num):\n",
    "    cube = num ** 3\n",
    "    print(f\"The cube of {num} is {cube}\")\n",
    "\n",
    "for i in range(0, 21):\n",
    "    print_cube(i)"
   ]
  },
  {
   "cell_type": "code",
   "execution_count": 9,
   "metadata": {},
   "outputs": [
    {
     "name": "stdout",
     "output_type": "stream",
     "text": [
      "The area of a triangle with base 5 and height 9 is 22.5\n"
     ]
    }
   ],
   "source": [
    "# 7\n",
    "\n",
    "def triangle_area(base, height):\n",
    "    area = (base * height) / 2\n",
    "    print(f\"The area of a triangle with base {base} and height {height} is {area}\")\n",
    "\n",
    "\n",
    "user_base = int(input(\"Enter triangle base: \"))\n",
    "user_height = int(input(\"Enter triangle height: \"))\n",
    "triangle_area(user_base, user_height)"
   ]
  },
  {
   "cell_type": "code",
   "execution_count": null,
   "metadata": {},
   "outputs": [],
   "source": [
    "# 8\n",
    "\n",
    "def smile():\n",
    "    print(\"---------\")\n",
    "    print(\"| 0   0 |\")\n",
    "    print(\"|   ^   |\")\n",
    "    print(\"| \\___/ |\")\n",
    "    print(\"---------\")\n",
    "\n",
    "def frown():\n",
    "    print(\"---------\")\n",
    "    print(\"| 0   0 |\")\n",
    "    print(\"|   ^   |\")\n",
    "    print(\"|  ___  |\")\n",
    "    print(\"| /   \\ |\")\n",
    "    print(\"---------\")\n",
    "\n",
    "feeling = input(\"Are you feeling happy or sad? \").lower()\n",
    "\n",
    "if feeling == \"happy\":\n",
    "    smile()\n",
    "elif feeling == \"sad\":\n",
    "    frown()\n",
    "else:\n",
    "    print(\"I don't know what that is.\")"
   ]
  }
 ],
 "metadata": {
  "kernelspec": {
   "display_name": "env",
   "language": "python",
   "name": "python3"
  },
  "language_info": {
   "codemirror_mode": {
    "name": "ipython",
    "version": 3
   },
   "file_extension": ".py",
   "mimetype": "text/x-python",
   "name": "python",
   "nbconvert_exporter": "python",
   "pygments_lexer": "ipython3",
   "version": "3.12.0"
  }
 },
 "nbformat": 4,
 "nbformat_minor": 2
}
