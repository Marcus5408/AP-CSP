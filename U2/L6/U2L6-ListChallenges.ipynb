{
 "cells": [
  {
   "cell_type": "code",
   "execution_count": 4,
   "metadata": {},
   "outputs": [
    {
     "name": "stdout",
     "output_type": "stream",
     "text": [
      "[6, 4, 7, 12, 5, 4, 6, 15, -5, -1, 22, 19, -12, 18]\n"
     ]
    }
   ],
   "source": [
    "# 1\n",
    "\n",
    "list_A = [1, 4, 7, 10, 5, 3, 6, 15, -5, -2, 20, 19, -25, 18]\n",
    "list_B = [6, 2, 7, 12, 0, 4, 2, 15, -7, -1, 22, 10, -12, -8]\n",
    "\n",
    "greater_list = []\n",
    "\n",
    "for i in range(len(list_A)):\n",
    "    if list_A[i] >= list_B[i]:\n",
    "        greater_list.append(list_A[i])\n",
    "    else:\n",
    "        greater_list.append(list_B[i])\n",
    "\n",
    "print(greater_list)"
   ]
  },
  {
   "cell_type": "code",
   "execution_count": null,
   "metadata": {},
   "outputs": [],
   "source": [
    "# 2\n",
    "\n",
    "user_input = \"\"\n",
    "numbers = []\n",
    "while user_input != \"-1\":\n",
    "    user_input = input(\"Enter a positive integer, -1 to end: \")\n",
    "    if user_input != \"-1\":\n",
    "        numbers.insert(0, int(user_input))\n",
    "\n",
    "print(f\"Your numbers:\\n{numbers}\")\n",
    "print(f\"Sum: {sum(numbers)}\")\n",
    "print(f\"Average: {sum(numbers) / len(numbers)}\")\n",
    "print(f\"max: {max(numbers)}\")"
   ]
  },
  {
   "cell_type": "code",
   "execution_count": 2,
   "metadata": {},
   "outputs": [
    {
     "name": "stdout",
     "output_type": "stream",
     "text": [
      "does not have 2 2\n"
     ]
    }
   ],
   "source": [
    "# 3\n",
    "\n",
    "nums = [5, 2, 5, 2]\n",
    "\n",
    "has_two_two = False\n",
    "for i in range(len(nums) - 1):\n",
    "    if nums[i] == 2 and nums[i + 1] == 2:\n",
    "        has_two_two = True\n",
    "        break\n",
    "\n",
    "print(\"has 2 2!\" if has_two_two else \"does not have 2 2\")"
   ]
  }
 ],
 "metadata": {
  "kernelspec": {
   "display_name": "Python 3",
   "language": "python",
   "name": "python3"
  },
  "language_info": {
   "codemirror_mode": {
    "name": "ipython",
    "version": 3
   },
   "file_extension": ".py",
   "mimetype": "text/x-python",
   "name": "python",
   "nbconvert_exporter": "python",
   "pygments_lexer": "ipython3",
   "version": "3.12.0"
  }
 },
 "nbformat": 4,
 "nbformat_minor": 2
}
