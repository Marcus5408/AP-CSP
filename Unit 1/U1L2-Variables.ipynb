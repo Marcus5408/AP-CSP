{
 "cells": [
  {
   "cell_type": "code",
   "execution_count": null,
   "metadata": {},
   "outputs": [],
   "source": [
    "# Creating Variables\n",
    "\n",
    "age = 15\n",
    "print(age)\n",
    "\n",
    "name = \"Issac\"\n",
    "print(name)\n",
    "\n",
    "milk_cost = 4.29\n",
    "print(milk_cost)"
   ]
  },
  {
   "cell_type": "code",
   "execution_count": null,
   "metadata": {},
   "outputs": [],
   "source": [
    "# More with variables/ comments\n",
    "# define initial values of variables\n",
    "x = 10\n",
    "y = 6.5\n",
    "z = x * y\n",
    "print(z)\n",
    "\n",
    "# recalculate z with new value of y\n",
    "y = 7.5\n",
    "z = x * y\n",
    "print(z)\n"
   ]
  }
 ],
 "metadata": {
  "kernelspec": {
   "display_name": "Python 3",
   "language": "python",
   "name": "python3"
  },
  "language_info": {
   "name": "python",
   "version": "3.11.4"
  },
  "orig_nbformat": 4
 },
 "nbformat": 4,
 "nbformat_minor": 2
}
