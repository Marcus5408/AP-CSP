{
 "cells": [
  {
   "cell_type": "code",
   "execution_count": 6,
   "metadata": {},
   "outputs": [
    {
     "name": "stdout",
     "output_type": "stream",
     "text": [
      "You are not a teenager.\n"
     ]
    }
   ],
   "source": [
    "# 4\n",
    "\n",
    "age = int(input(\"What is your age? \"))\n",
    "if age >= 13 and age <= 19:\n",
    "    print(\"You are a teenager!\")\n",
    "else:\n",
    "    print(\"You are not a teenager.\")"
   ]
  },
  {
   "cell_type": "code",
   "execution_count": 18,
   "metadata": {},
   "outputs": [
    {
     "name": "stdout",
     "output_type": "stream",
     "text": [
      "You rolled a 5 and a 3\n",
      "Game over\n"
     ]
    }
   ],
   "source": [
    "# 5\n",
    "\n",
    "import random\n",
    "\n",
    "dice_1 = random.randint(1, 6)\n",
    "dice_2 = random.randint(1, 6)\n",
    "\n",
    "print(f\"You rolled a {dice_1} and a {dice_2}\")\n",
    "if dice_1 == dice_2 or dice_1 + dice_2 > 9:\n",
    "    print(\"You win!\")\n",
    "else:\n",
    "    print(\"Game over\")"
   ]
  }
 ],
 "metadata": {
  "kernelspec": {
   "display_name": "Python 3",
   "language": "python",
   "name": "python3"
  },
  "language_info": {
   "codemirror_mode": {
    "name": "ipython",
    "version": 3
   },
   "file_extension": ".py",
   "mimetype": "text/x-python",
   "name": "python",
   "nbconvert_exporter": "python",
   "pygments_lexer": "ipython3",
   "version": "3.11.4"
  },
  "orig_nbformat": 4
 },
 "nbformat": 4,
 "nbformat_minor": 2
}
