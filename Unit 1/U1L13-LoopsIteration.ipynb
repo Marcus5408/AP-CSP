{
 "cells": [
  {
   "cell_type": "code",
   "execution_count": null,
   "metadata": {},
   "outputs": [],
   "source": [
    "# 1\n",
    "\n",
    "for i in range(10):\n",
    "    print(\"AP CSP\")"
   ]
  },
  {
   "cell_type": "code",
   "execution_count": null,
   "metadata": {},
   "outputs": [],
   "source": [
    "# 2 \n",
    "\n",
    "for i in range(8):\n",
    "    print(i)"
   ]
  },
  {
   "cell_type": "code",
   "execution_count": null,
   "metadata": {},
   "outputs": [],
   "source": [
    "# 3\n",
    "\n",
    "for i in range(5):\n",
    "    print(i + 2)"
   ]
  },
  {
   "cell_type": "code",
   "execution_count": null,
   "metadata": {},
   "outputs": [],
   "source": [
    "# 4 - 6\n",
    "\n",
    "max_number = int(input(\"Count from 1 until: \"))\n",
    "my_product = 1\n",
    "for i in range(max_number):\n",
    "   adjusted = i + 1\n",
    "   my_product = my_product * adjusted\n",
    "   print(adjusted)\n",
    "\n",
    "\n",
    "print(\"Total product: \" + str(my_product))\n",
    "print(\"Goodbye!\")"
   ]
  },
  {
   "cell_type": "code",
   "execution_count": null,
   "metadata": {},
   "outputs": [],
   "source": [
    "# 7 Challenge: Dice Rolls\n",
    "\n",
    "import random\n",
    "\n",
    "number_of_dice = int(input(\"How many times do you want to roll a six sided die? \"))\n",
    "dice_rolls = []\n",
    "sixes = 0\n",
    "for i in range(number_of_dice):\n",
    "    dice_rolls.append(random.randint(1, 6))\n",
    "    print(f\"Roll {i + 1}: {dice_rolls[i]}\")\n",
    "    sixes += 1 if dice_rolls[i] == 6 else 0\n",
    "print(f\"You got {sixes} sixes!\") "
   ]
  }
 ],
 "metadata": {
  "kernelspec": {
   "display_name": "Python 3",
   "language": "python",
   "name": "python3"
  },
  "language_info": {
   "codemirror_mode": {
    "name": "ipython",
    "version": 3
   },
   "file_extension": ".py",
   "mimetype": "text/x-python",
   "name": "python",
   "nbconvert_exporter": "python",
   "pygments_lexer": "ipython3",
   "version": "3.12.0"
  },
  "orig_nbformat": 4
 },
 "nbformat": 4,
 "nbformat_minor": 2
}
