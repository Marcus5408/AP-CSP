{
 "cells": [
  {
   "cell_type": "code",
   "execution_count": 1,
   "metadata": {},
   "outputs": [
    {
     "name": "stdout",
     "output_type": "stream",
     "text": [
      "Quadrant II\n"
     ]
    }
   ],
   "source": [
    "# Part 1\n",
    "\n",
    "x = int(input(\"Enter the x coordinate: \"))\n",
    "y = int(input(\"Enter the y coordinate: \"))\n",
    "\n",
    "# map the coordinates to 0-2, so pos. nums = 2, neg. nums = 0, 0 = 1\n",
    "x = int((x / abs(x)) + 1 if x != 0 else 1)\n",
    "y = int((y / abs(y)) + 1 if y != 0 else 1)\n",
    "\n",
    "map = [\n",
    "    [\"Quadrant III\", \"On the y axis\", \"Quadrant IV\"],\n",
    "    [\"On the x axis\", \"Point is on the origin\", \"On the x axis\"],\n",
    "    [\"Quadrant II\", \"On the y axis\", \"Quadrant I\"]\n",
    "]\n",
    "print(map[int(y)][int(x)])"
   ]
  },
  {
   "cell_type": "code",
   "execution_count": null,
   "metadata": {},
   "outputs": [],
   "source": [
    "# Part 2\n",
    "\n",
    "import random\n",
    "\n",
    "x = random.randint(-100, 100)\n",
    "y = random.randint(-100, 100)\n",
    "print(f\"Randomly generated x-y point: ({x}, {y})\\n\")\n",
    "\n",
    "# map the coordinates to 0-2, so pos. nums = 2, neg. nums = 0, 0 = 1\n",
    "x = int((x / abs(x)) + 1 if x != 0 else 1)\n",
    "y = int((y / abs(y)) + 1 if y != 0 else 1)\n",
    "\n",
    "map = [\n",
    "    [\"Quadrant III\", \"On the y axis\", \"Quadrant IV\"],\n",
    "    [\"On the x axis\", \"Point is on the origin\", \"On the x axis\"],\n",
    "    [\"Quadrant II\", \"On the y axis\", \"Quadrant I\"]\n",
    "]\n",
    "print(map[int(y)][int(x)])"
   ]
  },
  {
   "cell_type": "code",
   "execution_count": 27,
   "metadata": {},
   "outputs": [
    {
     "name": "stdout",
     "output_type": "stream",
     "text": [
      "Generating a random x-y coordinate from -50 to 50\n",
      "Randomly generated x-y point: (-42, 12)\n",
      "\n",
      "Quadrant II\n"
     ]
    }
   ],
   "source": [
    "# Part 3\n",
    "\n",
    "import random\n",
    "\n",
    "bound = 0\n",
    "while bound < 1: bound = int(input(\"Enter your bound: \"))\n",
    "\n",
    "print(f\"Generating a random x-y coordinate from -{bound} to {bound}\")\n",
    "x = random.randint(-bound, bound)\n",
    "y = random.randint(-bound, bound)\n",
    "print(f\"Randomly generated x-y point: ({x}, {y})\\n\")\n",
    "\n",
    "# map the coordinates to 0-2, so pos. nums = 2, neg. nums = 0, 0 = 1\n",
    "x = int((x / abs(x)) + 1 if x != 0 else 1)\n",
    "y = int((y / abs(y)) + 1 if y != 0 else 1)\n",
    "\n",
    "map = [\n",
    "    [\"Quadrant III\", \"On the y axis\", \"Quadrant IV\"],\n",
    "    [\"On the x axis\", \"Point is on the origin\", \"On the x axis\"],\n",
    "    [\"Quadrant II\", \"On the y axis\", \"Quadrant I\"]\n",
    "]\n",
    "print(map[int(y)][int(x)])"
   ]
  },
  {
   "cell_type": "code",
   "execution_count": 3,
   "metadata": {},
   "outputs": [
    {
     "name": "stdout",
     "output_type": "stream",
     "text": [
      "\u001b[36mWhat would you like to do?\n",
      "\u001b[36mGenerating a random x-y coordinate from \u001b[32m-50\u001b[36m to \u001b[32m50\n",
      "\u001b[36mRandomly generated x-y point: (\u001b[32m-32\u001b[36m, \u001b[32m-43\u001b[36m)\n",
      "\n",
      "\u001b[33mQuadrant III\u001b[39m\n"
     ]
    }
   ],
   "source": [
    "# Challenge\n",
    "\n",
    "import random\n",
    "from colorama import Fore, just_fix_windows_console\n",
    "\n",
    "just_fix_windows_console()\n",
    "CYAN, YELLOW, GREEN, RESET = Fore.CYAN, Fore.YELLOW, Fore.GREEN, Fore.RESET\n",
    "\n",
    "print(f\"{CYAN}What would you like to do?\")\n",
    "mode = input(f\"{GREEN}[1] Enter a point\\n[2] Generate a random point\\n[3] Generate a random point based on a bound\\n{CYAN}> {RESET}\")\n",
    "while mode not in [\"1\",\"2\",\"3\"]:\n",
    "    mode = input(f\"{CYAN}> {RESET}\")\n",
    "mode = int(mode)\n",
    "\n",
    "def coords_to_quadrant(x:int, y:int):\n",
    "    # map the coordinates to 0-2, so pos. nums = 2, neg. nums = 0, 0 = 1\n",
    "    x = int((x / abs(x)) + 1 if x != 0 else 1)\n",
    "    y = int((y / abs(y)) + 1 if y != 0 else 1)\n",
    "\n",
    "    map = [\n",
    "        [\"Quadrant III\", \"On the y axis\", \"Quadrant IV\"],\n",
    "        [\"On the x axis\", \"Point is on the origin\", \"On the x axis\"],\n",
    "        [\"Quadrant II\", \"On the y axis\", \"Quadrant I\"]\n",
    "    ]\n",
    "    return map[int(y)][int(x)]\n",
    "\n",
    "if mode == 1:\n",
    "    x = int(input(f\"{CYAN}Enter the x coordinate: {RESET}\"))\n",
    "    y = int(input(f\"{CYAN}Enter the y coordinate: {RESET}\"))\n",
    "elif mode == 2:\n",
    "    x = random.randint(-100, 100)\n",
    "    y = random.randint(-100, 100)\n",
    "    print(f\"{CYAN}Randomly generated x-y point: ({GREEN}{x}{CYAN}, {GREEN}{y}{CYAN})\\n\")\n",
    "else:\n",
    "    bound = 0\n",
    "    while bound < 1: bound = int(input(f\"{CYAN}Enter your bound: {RESET}\"))\n",
    "\n",
    "    print(f\"{CYAN}Generating a random x-y coordinate from {GREEN}-{bound}{CYAN} to {GREEN}{bound}\")\n",
    "    x = random.randint(-bound, bound)\n",
    "    y = random.randint(-bound, bound)\n",
    "    print(f\"{CYAN}Randomly generated x-y point: ({GREEN}{x}{CYAN}, {GREEN}{y}{CYAN})\\n\")\n",
    "\n",
    "print(f\"{YELLOW}{coords_to_quadrant(x, y)}{RESET}\")"
   ]
  }
 ],
 "metadata": {
  "kernelspec": {
   "display_name": "Python 3",
   "language": "python",
   "name": "python3"
  },
  "language_info": {
   "codemirror_mode": {
    "name": "ipython",
    "version": 3
   },
   "file_extension": ".py",
   "mimetype": "text/x-python",
   "name": "python",
   "nbconvert_exporter": "python",
   "pygments_lexer": "ipython3",
   "version": "3.11.4"
  },
  "orig_nbformat": 4
 },
 "nbformat": 4,
 "nbformat_minor": 2
}
