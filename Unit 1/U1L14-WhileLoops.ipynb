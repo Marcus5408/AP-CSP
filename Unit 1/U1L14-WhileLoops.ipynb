{
 "cells": [
  {
   "cell_type": "code",
   "execution_count": null,
   "metadata": {},
   "outputs": [],
   "source": [
    "# 7a, 8a\n",
    "\n",
    "i = 0\n",
    "while i < 21:\n",
    "    print(i)\n",
    "    i += 2"
   ]
  },
  {
   "cell_type": "code",
   "execution_count": null,
   "metadata": {},
   "outputs": [],
   "source": [
    "# 7b, 8b\n",
    "\n",
    "for i in range(21):\n",
    "    if i % 2 == 0:\n",
    "        print(i)"
   ]
  },
  {
   "cell_type": "code",
   "execution_count": 1,
   "metadata": {},
   "outputs": [
    {
     "name": "stdout",
     "output_type": "stream",
     "text": [
      "3825\n"
     ]
    }
   ],
   "source": [
    "# 9a\n",
    "\n",
    "i = 50\n",
    "total = 0\n",
    "\n",
    "while i <= 100:\n",
    "    total += i\n",
    "    i += 1\n",
    "\n",
    "print(total)"
   ]
  },
  {
   "cell_type": "code",
   "execution_count": 2,
   "metadata": {},
   "outputs": [
    {
     "name": "stdout",
     "output_type": "stream",
     "text": [
      "3825\n"
     ]
    }
   ],
   "source": [
    "# 9b\n",
    "\n",
    "total = 0\n",
    "\n",
    "for i in range(50, 101):\n",
    "    total += i\n",
    "\n",
    "print(total)"
   ]
  },
  {
   "cell_type": "code",
   "execution_count": 9,
   "metadata": {},
   "outputs": [
    {
     "name": "stdout",
     "output_type": "stream",
     "text": [
      "The sum is: 60\n",
      "Goodbye!\n"
     ]
    }
   ],
   "source": [
    "# 11\n",
    "\n",
    "total = 0\n",
    "user_num = int(input(\"Enter a positive number to add, -1 to quit: \"))\n",
    "\n",
    "while user_num != -1:\n",
    "    total += user_num if user_num > 0 else 0\n",
    "    user_num = int(input(\"Enter another positive number to add, -1 to quit: \"))\n",
    "\n",
    "print(f\"The sum is: {str(total)}\\nGoodbye!\")"
   ]
  },
  {
   "cell_type": "code",
   "execution_count": 23,
   "metadata": {},
   "outputs": [
    {
     "name": "stdout",
     "output_type": "stream",
     "text": [
      "The sum is: 60\n",
      "Goodbye!\n"
     ]
    }
   ],
   "source": [
    "# 12\n",
    "\n",
    "num = int(input(\"Enter number, -1 to quit: \"))\n",
    "my_sum = num\n",
    "\n",
    "while (num != -1):\n",
    "    num = int(input(\"Enter number, -1 to quit: \"))\n",
    "    my_sum = my_sum + num if num != -1 else my_sum\n",
    "\n",
    "print(\"The sum is: \" + str(my_sum))\n",
    "print(\"Goodbye!\")"
   ]
  },
  {
   "cell_type": "code",
   "execution_count": 4,
   "metadata": {},
   "outputs": [
    {
     "name": "stdout",
     "output_type": "stream",
     "text": [
      "10\n"
     ]
    }
   ],
   "source": [
    "# AP Practice 1\n",
    "\n",
    "i = 0\n",
    "sum = 0\n",
    "while i != 5:\n",
    "    sum += i\n",
    "    i += 1\n",
    "print(sum)"
   ]
  },
  {
   "cell_type": "code",
   "execution_count": 8,
   "metadata": {},
   "outputs": [
    {
     "name": "stdout",
     "output_type": "stream",
     "text": [
      "21\n"
     ]
    }
   ],
   "source": [
    "# AP Practice 2\n",
    "i = 0\n",
    "sum = 0\n",
    "while i <= 5:\n",
    "    i += 1\n",
    "    sum += i\n",
    "print(sum)"
   ]
  }
 ],
 "metadata": {
  "kernelspec": {
   "display_name": "Python 3",
   "language": "python",
   "name": "python3"
  },
  "language_info": {
   "codemirror_mode": {
    "name": "ipython",
    "version": 3
   },
   "file_extension": ".py",
   "mimetype": "text/x-python",
   "name": "python",
   "nbconvert_exporter": "python",
   "pygments_lexer": "ipython3",
   "version": "3.11.6"
  },
  "orig_nbformat": 4
 },
 "nbformat": 4,
 "nbformat_minor": 2
}
