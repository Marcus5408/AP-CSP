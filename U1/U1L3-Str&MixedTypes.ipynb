{
 "cells": [
  {
   "cell_type": "code",
   "execution_count": 1,
   "metadata": {},
   "outputs": [],
   "source": [
    "# Stacy\n",
    "\n",
    "# stores prices of items. pound_of_bananas is the price per pound.\n",
    "prices = {\n",
    "    \"apple\": 0.60,\n",
    "    \"pineapple\": 2.50,\n",
    "    \"pound_of_bananas\": 0.35,\n",
    "}\n",
    "\n",
    "# customer data is stored in a dict\n",
    "# purchases is a dict of items and their quantities\n",
    "customer_data = {\n",
    "    \"name\": \"Stacey\",\n",
    "    \"purchases\": {\n",
    "        \"apple\": 12,\n",
    "        \"pineapple\": 2,\n",
    "        \"pound_of_bananas\": 5,\n",
    "    },\n",
    "    \"amount_tendered\": 20.00,\n",
    "}\n",
    "\n",
    "# function can be reused for any customer as long as the customer\n",
    "# doesn't buy anything that isn't in the prices dict\n",
    "def print_receipt(customer):\n",
    "    number_of_items = 0\n",
    "    total_cost = 0\n",
    "\n",
    "    # if it wasn't for the pound_of_bananas, this would be a two-liner :(\n",
    "    for item, quantity in customer['purchases'].items():\n",
    "        if item == 'pound_of_bananas':\n",
    "            number_of_items += 1\n",
    "        else:\n",
    "            number_of_items += quantity\n",
    "        \n",
    "        total_cost += prices[item] * quantity\n",
    "\n",
    "    average_cost_per_item = total_cost / number_of_items\n",
    "    change = customer['amount_tendered'] - total_cost\n",
    "\n",
    "    # the actual printing of the receipt\n",
    "    print(\"-----------\")\n",
    "    print(f\"Customer: {customer['name']}\\n\")\n",
    "    print(f\"Number of Items: {number_of_items}\")\n",
    "    print(f\"Total Cost: ${total_cost:.2f}\")\n",
    "    print(f\"Average Cost Per Item: ${average_cost_per_item:.2f}\\n\")\n",
    "    print(f\"Amount Tendered: ${customer['amount_tendered']:.2f}\")\n",
    "    print(f\"Change: ${change:.2f}\")\n",
    "    print(\"-----------\")\n",
    "\n",
    "print_receipt(customer_data)"
   ]
  }
 ],
 "metadata": {
  "kernelspec": {
   "display_name": "Python 3",
   "language": "python",
   "name": "python3"
  },
  "language_info": {
   "codemirror_mode": {
    "name": "ipython",
    "version": 3
   },
   "file_extension": ".py",
   "mimetype": "text/x-python",
   "name": "python",
   "nbconvert_exporter": "python",
   "pygments_lexer": "ipython3",
   "version": "3.11.4"
  },
  "orig_nbformat": 4
 },
 "nbformat": 4,
 "nbformat_minor": 2
}
