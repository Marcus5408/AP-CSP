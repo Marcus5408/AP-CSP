{
 "cells": [
  {
   "cell_type": "code",
   "execution_count": null,
   "metadata": {},
   "outputs": [],
   "source": [
    "# Fahrenheit to Celsius converte\n",
    "\n",
    "fahrenheit = int(input(\"Enter degrees in fahrenheit: \"))\n",
    "print(f\"{fahrenheit} degrees fahrenheit is {round((int(fahrenheit) - 32) * 5 / 9)} degrees celsius\")"
   ]
  },
  {
   "cell_type": "code",
   "execution_count": 4,
   "metadata": {},
   "outputs": [
    {
     "name": "stdout",
     "output_type": "stream",
     "text": [
      "The minimum number of coins is 8\n",
      "5 quarters \n",
      "1 dimes \n",
      "0 nickels \n",
      "2 pennies\n"
     ]
    }
   ],
   "source": [
    "# Exact Change Calculator\n",
    "\n",
    "amount = float(input(\"Please enter an amount in dollars and cents: \"))\n",
    "\n",
    "dollars = int(amount)\n",
    "cents = int(round((amount - dollars) * 100))\n",
    "\n",
    "quarters = dollars * 4 + cents // 25\n",
    "dimes = (cents % 25) // 10\n",
    "nickels = (cents % 25 % 10) // 5\n",
    "pennies = (cents % 25 % 10 % 5)\n",
    "\n",
    "print(f\"The minimum number of coins is {quarters + dimes + nickels + pennies}\")\n",
    "print(f\"{quarters} quarters \\n{dimes} dimes \\n{nickels} nickels \\n{pennies} pennies\")"
   ]
  }
 ],
 "metadata": {
  "kernelspec": {
   "display_name": "Python 3",
   "language": "python",
   "name": "python3"
  },
  "language_info": {
   "codemirror_mode": {
    "name": "ipython",
    "version": 3
   },
   "file_extension": ".py",
   "mimetype": "text/x-python",
   "name": "python",
   "nbconvert_exporter": "python",
   "pygments_lexer": "ipython3",
   "version": "3.11.4"
  },
  "orig_nbformat": 4
 },
 "nbformat": 4,
 "nbformat_minor": 2
}
